{
 "cells": [
  {
   "cell_type": "markdown",
   "metadata": {},
   "source": [
    "First step we do is to download the entire lucene git from github. To accomplish this, we use external python library namely GitPython which has a nice and clean function to do git operations in our python script."
   ]
  },
  {
   "cell_type": "code",
   "execution_count": 8,
   "metadata": {
    "collapsed": false
   },
   "outputs": [
    {
     "name": "stdout",
     "output_type": "stream",
     "text": [
      " downloaded \n"
     ]
    }
   ],
   "source": [
    "import git, os, shutil\n",
    "\n",
    "directory_name = \"lucenegit\"\n",
    "remote_git = \"https://github.com/apache/lucene-solr.git\"\n",
    "\n",
    "if os.path.exists(directory_name):\n",
    "    shutil.rmtree(directory_name)\n",
    "os.mkdir(directory_name)\n",
    "\n",
    "repo = git.Repo.init(directory_name)\n",
    "origin = repo.create_remote('origin', remote_git)\n",
    "origin.fetch()\n",
    "origin.pull(origin.refs[0].remote_head)\n",
    "\n",
    "print \" git repo for lucene has been downloaded \"\n"
   ]
  },
  {
   "cell_type": "markdown",
   "metadata": {},
   "source": [
    "According to the assignment description, we need to get the snapshot of lucene project at 2015-01-01 00:00:00. We have to obtain the hash commit for the latest snapshot before that date. To do that, we will take a look at the latest commit right before 2015-01-01 00:00:00, and then do a git checkout to that particular snapshot."
   ]
  },
  {
   "cell_type": "code",
   "execution_count": 19,
   "metadata": {
    "collapsed": false
   },
   "outputs": [
    {
     "data": {
      "text/plain": [
       "u''"
      ]
     },
     "execution_count": 19,
     "metadata": {},
     "output_type": "execute_result"
    }
   ],
   "source": [
    "snapshot = repo.git.log(\"--before='2015-01-01 00:00:00'\", \"-n 1\", \"--format=%H\") # get the commit hash\n",
    "\n",
    "repo.git.checkout(snapshot)"
   ]
  },
  {
   "cell_type": "markdown",
   "metadata": {},
   "source": [
    "At this point, we have already in the desired snapshot as required in the assignment. What we need to do next is to obtain all class for our lucene project. We are mostly interested in the lucene directory of our repository. We will do a listing of all files under this snapshot and find corresponding class with .Java files. Up until this point, we have the full list of class for our assignment. Next, we will try to find bugs for each class in JIRA."
   ]
  },
  {
   "cell_type": "code",
   "execution_count": 34,
   "metadata": {
    "collapsed": false
   },
   "outputs": [],
   "source": [
    "listfiles = repo.git.ls_files(\"lucene/\").split(\"\\n\")\n",
    "\n",
    "java_files = \"\"\n",
    "\n",
    "for i in listfiles:\n",
    "    if i[-5:] == \".java\":\n",
    "        java_files = java_files + i + \"\\n\"\n"
   ]
  },
  {
   "cell_type": "markdown",
   "metadata": {},
   "source": [
    "To do bug analysis in JIRA, we will use jira package in Python."
   ]
  },
  {
   "cell_type": "code",
   "execution_count": 48,
   "metadata": {
    "collapsed": false
   },
   "outputs": [
    {
     "name": "stdout",
     "output_type": "stream",
     "text": [
      "50\n"
     ]
    }
   ],
   "source": [
    "from jira import JIRA\n",
    "jira = JIRA(\"https://issues.apache.org/jira/\")\n",
    "\n",
    "issues_in_proj = jira.search_issues('project=LUCENE')\n",
    "c = 0\n",
    "for i in issues_in_proj:\n",
    "    summary = i.fields.summary\n",
    "    c += 1\n",
    "\n",
    "print c"
   ]
  },
  {
   "cell_type": "code",
   "execution_count": null,
   "metadata": {
    "collapsed": true
   },
   "outputs": [],
   "source": []
  }
 ],
 "metadata": {
  "kernelspec": {
   "display_name": "Python 2",
   "language": "python",
   "name": "python2"
  },
  "language_info": {
   "codemirror_mode": {
    "name": "ipython",
    "version": 2
   },
   "file_extension": ".py",
   "mimetype": "text/x-python",
   "name": "python",
   "nbconvert_exporter": "python",
   "pygments_lexer": "ipython2",
   "version": "2.7.11"
  }
 },
 "nbformat": 4,
 "nbformat_minor": 0
}
